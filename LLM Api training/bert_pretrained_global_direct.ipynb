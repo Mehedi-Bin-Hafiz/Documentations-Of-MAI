{
 "cells": [
  {
   "cell_type": "code",
   "execution_count": 1,
   "id": "91940c59",
   "metadata": {},
   "outputs": [],
   "source": [
    "import pandas as pd \n",
    "from tqdm import tqdm \n",
    "from scipy.spatial.distance import cosine\n",
    "import ast "
   ]
  },
  {
   "cell_type": "code",
   "execution_count": 2,
   "id": "0756266f",
   "metadata": {},
   "outputs": [],
   "source": [
    "df = pd.read_excel(\"dataset/preprocessed_updated_20_search_and_cf_data-2.xlsx\", engine='openpyxl')"
   ]
  },
  {
   "cell_type": "code",
   "execution_count": 3,
   "id": "1763ccaa",
   "metadata": {},
   "outputs": [
    {
     "data": {
      "text/html": [
       "<div>\n",
       "<style scoped>\n",
       "    .dataframe tbody tr th:only-of-type {\n",
       "        vertical-align: middle;\n",
       "    }\n",
       "\n",
       "    .dataframe tbody tr th {\n",
       "        vertical-align: top;\n",
       "    }\n",
       "\n",
       "    .dataframe thead th {\n",
       "        text-align: right;\n",
       "    }\n",
       "</style>\n",
       "<table border=\"1\" class=\"dataframe\">\n",
       "  <thead>\n",
       "    <tr style=\"text-align: right;\">\n",
       "      <th></th>\n",
       "      <th>veh_model</th>\n",
       "      <th>veh year</th>\n",
       "      <th>veh_loc</th>\n",
       "      <th>veh_mile</th>\n",
       "      <th>cust_complaint</th>\n",
       "      <th>repr_comments</th>\n",
       "      <th>cmpnt_cat_desc</th>\n",
       "      <th>cmpnt_code</th>\n",
       "      <th>cmpnt_symp_txt</th>\n",
       "      <th>TREAD_cat</th>\n",
       "    </tr>\n",
       "  </thead>\n",
       "  <tbody>\n",
       "    <tr>\n",
       "      <th>0</th>\n",
       "      <td>Audi</td>\n",
       "      <td>2024</td>\n",
       "      <td>NC</td>\n",
       "      <td>30945</td>\n",
       "      <td>the airbag warning light in my audi wont turn off</td>\n",
       "      <td>identified as a switch problem the issue has b...</td>\n",
       "      <td>Airbag</td>\n",
       "      <td>253</td>\n",
       "      <td>warning light on delayed deployment</td>\n",
       "      <td>SUSPENSION</td>\n",
       "    </tr>\n",
       "    <tr>\n",
       "      <th>1</th>\n",
       "      <td>Audi</td>\n",
       "      <td>2016</td>\n",
       "      <td>TX</td>\n",
       "      <td>30316</td>\n",
       "      <td>the airbag is making a buzzing noise very anno...</td>\n",
       "      <td>fixed a loose wiring of the airbag assembly</td>\n",
       "      <td>Airbag</td>\n",
       "      <td>261</td>\n",
       "      <td>annoying noise</td>\n",
       "      <td>MEASURE_EQUIPMENTS</td>\n",
       "    </tr>\n",
       "    <tr>\n",
       "      <th>2</th>\n",
       "      <td>Audi</td>\n",
       "      <td>2010</td>\n",
       "      <td>IL</td>\n",
       "      <td>37217</td>\n",
       "      <td>my audis fuel gauge is stuck showing full even...</td>\n",
       "      <td>the fuel gauge sticking issue was due to a fau...</td>\n",
       "      <td>Fuel Gauge</td>\n",
       "      <td>281</td>\n",
       "      <td>incorrect reading fluctuates erratically</td>\n",
       "      <td>MEASURE_EQUIPMENTS</td>\n",
       "    </tr>\n",
       "    <tr>\n",
       "      <th>3</th>\n",
       "      <td>Audi</td>\n",
       "      <td>2013</td>\n",
       "      <td>WA</td>\n",
       "      <td>13308</td>\n",
       "      <td>the airbag warning light in my audi wont turn off</td>\n",
       "      <td>identified as a switch problem the issue has b...</td>\n",
       "      <td>Airbag</td>\n",
       "      <td>217</td>\n",
       "      <td>warning light on delayed deployment</td>\n",
       "      <td>AIRBAG</td>\n",
       "    </tr>\n",
       "    <tr>\n",
       "      <th>4</th>\n",
       "      <td>Audi</td>\n",
       "      <td>2022</td>\n",
       "      <td>NY</td>\n",
       "      <td>10949</td>\n",
       "      <td>the air suspension system of my audi seems to ...</td>\n",
       "      <td>air suspension fault traced to a leaky air str...</td>\n",
       "      <td>Air Suspension</td>\n",
       "      <td>102</td>\n",
       "      <td>vehicle sagging rough ride</td>\n",
       "      <td>AIRBAG</td>\n",
       "    </tr>\n",
       "  </tbody>\n",
       "</table>\n",
       "</div>"
      ],
      "text/plain": [
       "  veh_model  veh year veh_loc  veh_mile  \\\n",
       "0      Audi      2024      NC     30945   \n",
       "1      Audi      2016      TX     30316   \n",
       "2      Audi      2010      IL     37217   \n",
       "3      Audi      2013      WA     13308   \n",
       "4      Audi      2022      NY     10949   \n",
       "\n",
       "                                      cust_complaint  \\\n",
       "0  the airbag warning light in my audi wont turn off   \n",
       "1  the airbag is making a buzzing noise very anno...   \n",
       "2  my audis fuel gauge is stuck showing full even...   \n",
       "3  the airbag warning light in my audi wont turn off   \n",
       "4  the air suspension system of my audi seems to ...   \n",
       "\n",
       "                                       repr_comments  cmpnt_cat_desc  \\\n",
       "0  identified as a switch problem the issue has b...          Airbag   \n",
       "1       fixed a loose wiring of the airbag assembly           Airbag   \n",
       "2  the fuel gauge sticking issue was due to a fau...      Fuel Gauge   \n",
       "3  identified as a switch problem the issue has b...          Airbag   \n",
       "4  air suspension fault traced to a leaky air str...  Air Suspension   \n",
       "\n",
       "   cmpnt_code                            cmpnt_symp_txt           TREAD_cat  \n",
       "0         253       warning light on delayed deployment          SUSPENSION  \n",
       "1         261                            annoying noise  MEASURE_EQUIPMENTS  \n",
       "2         281  incorrect reading fluctuates erratically  MEASURE_EQUIPMENTS  \n",
       "3         217       warning light on delayed deployment              AIRBAG  \n",
       "4         102                vehicle sagging rough ride              AIRBAG  "
      ]
     },
     "execution_count": 3,
     "metadata": {},
     "output_type": "execute_result"
    }
   ],
   "source": [
    "df.head() "
   ]
  },
  {
   "cell_type": "code",
   "execution_count": 4,
   "id": "ade80ab0",
   "metadata": {},
   "outputs": [],
   "source": [
    "#dataset cleaning\n",
    "punctuations = '''!()-[]{};:'\"\\,<>./?@#$%^&*_~।|'''\n",
    "def punctuations_remover(text):\n",
    "    no_punct = \" \" \n",
    "    for char in text:\n",
    "        if char not in punctuations and char.isnumeric() == False :\n",
    "            no_punct = no_punct + char\n",
    "    return no_punct.lower().strip()"
   ]
  },
  {
   "cell_type": "code",
   "execution_count": 5,
   "id": "12972fc8",
   "metadata": {},
   "outputs": [],
   "source": [
    "test_data = pd.read_excel(\"dataset/preprocessed_without ghij-2.xlsx\", engine='openpyxl')"
   ]
  },
  {
   "cell_type": "code",
   "execution_count": 6,
   "id": "f0601474",
   "metadata": {},
   "outputs": [],
   "source": [
    "# This unified list, `word2vec_corpus`, is intended for training or updating a Word2Vec model with diverse textual data.\n",
    "corpus = test_data.cust_complaint.to_list() + test_data.repr_comments.to_list()+df.cust_complaint.to_list()+df.repr_comments.to_list()   "
   ]
  },
  {
   "cell_type": "code",
   "execution_count": 7,
   "id": "1753dd00",
   "metadata": {},
   "outputs": [
    {
     "name": "stderr",
     "output_type": "stream",
     "text": [
      "C:\\Users\\Mehedi\\PycharmProjects\\TorchEnvironment\\venvTorch\\lib\\site-packages\\tqdm\\auto.py:22: TqdmWarning: IProgress not found. Please update jupyter and ipywidgets. See https://ipywidgets.readthedocs.io/en/stable/user_install.html\n",
      "  from .autonotebook import tqdm as notebook_tqdm\n",
      "Some weights of the model checkpoint at bert-base-uncased were not used when initializing BertModel: ['cls.predictions.decoder.weight', 'cls.predictions.bias', 'cls.predictions.transform.LayerNorm.bias', 'cls.predictions.transform.dense.bias', 'cls.seq_relationship.bias', 'cls.seq_relationship.weight', 'cls.predictions.transform.LayerNorm.weight', 'cls.predictions.transform.dense.weight']\n",
      "- This IS expected if you are initializing BertModel from the checkpoint of a model trained on another task or with another architecture (e.g. initializing a BertForSequenceClassification model from a BertForPreTraining model).\n",
      "- This IS NOT expected if you are initializing BertModel from the checkpoint of a model that you expect to be exactly identical (initializing a BertForSequenceClassification model from a BertForSequenceClassification model).\n"
     ]
    }
   ],
   "source": [
    "import torch\n",
    "# Choose the appropriate device based on availability (CUDA or CPU)\n",
    "gpu_available = torch.cuda.is_available()\n",
    "device = torch.device(\"cuda\" if gpu_available else \"cpu\")\n",
    "##  load bert model and send to gpu\n",
    "from transformers import BertModel\n",
    "model = BertModel.from_pretrained(\"bert-base-uncased\")\n",
    "model.to(device)\n",
    "# Utilize a different tokenizer\n",
    "from transformers import AutoTokenizer\n",
    "tokenizer = AutoTokenizer.from_pretrained('bert-base-uncased')\n",
    "    \n",
    "def vector_embedding_converter(sentence):\n",
    "    # Tokenize the input sentence into tokens using the specified tokenizer\n",
    "    tokens = tokenizer.tokenize(sentence)\n",
    "    # Convert the tokens into their corresponding IDs; here, we take the ID of the first token only\n",
    "    sentence_token_id = tokenizer.convert_tokens_to_ids(tokens)[0]\n",
    "    # Convert the token ID into a tensor and transfer it to the device (e.g., GPU)\n",
    "    sentence_token_tensor = torch.tensor([sentence_token_id]).to(device)\n",
    "    # Retrieve the embedding for the specified token ID using the model's word embeddings layer\n",
    "    sentence_embedding = model.embeddings.word_embeddings(sentence_token_tensor)\n",
    "    # Return the embedding tensor of the sentence\n",
    "    return sentence_embedding\n"
   ]
  },
  {
   "cell_type": "code",
   "execution_count": 8,
   "id": "a8704911",
   "metadata": {},
   "outputs": [],
   "source": [
    "df['combined_cust_repr'] =df.cust_complaint +\" \"+ df.repr_comments\n",
    "df['combined_cust_repr_vector'] = df.combined_cust_repr.apply(vector_embedding_converter)\n",
    "test_data['combined_cust_repr'] = test_data.cust_complaint +\" \"+ test_data.repr_comments\n",
    "test_data['combined_cust_repr_vector'] = test_data.combined_cust_repr.apply(vector_embedding_converter)"
   ]
  },
  {
   "cell_type": "code",
   "execution_count": 9,
   "id": "387bf428",
   "metadata": {},
   "outputs": [],
   "source": [
    "# List of customer representation vectors obtained from a DataFrame and converted to a list\n",
    "cust_repr_vectors = df.combined_cust_repr_vector.tolist()\n",
    "# Instantiate a CosineSimilarity object from PyTorch, specifying operation over dimension 1\n",
    "cos = torch.nn.CosineSimilarity(dim=1)\n",
    "# Initialize a list to keep track of the best cosine similarity scores\n",
    "best_cos_score = list()\n",
    "\n",
    "def best_matching_finder(test_df_vector):\n",
    "    # Initialize the best similarity score as -1 to guarantee the first comparison is always greater\n",
    "    best_flag = -1  \n",
    "    # Initialize the index of the best matching vector\n",
    "    best_index = 0\n",
    "    # Initialize the best cosine similarity value\n",
    "    best_value = 0\n",
    "    # Iterate through the customer representation vectors with their indices\n",
    "    for index, df_vector in enumerate(cust_repr_vectors):\n",
    "        # Calculate cosine similarity between the current customer vector and the test vector; assumes df_vector and test_df_vector are tensors\n",
    "        best_value = cos(df_vector, test_df_vector)[0].tolist()\n",
    "        # If the current cosine similarity is better than the previously best one, update the best record\n",
    "        if best_value > best_flag:\n",
    "            best_flag = best_value\n",
    "            best_index = index\n",
    "    # Append the best cosine similarity value from the last comparison to the list (this might be a bug, should be best_flag instead)\n",
    "    best_cos_score.append(best_value)\n",
    "    # Return the index of the best matching customer vector\n",
    "    return best_index\n"
   ]
  },
  {
   "cell_type": "code",
   "execution_count": 10,
   "id": "315d301d",
   "metadata": {},
   "outputs": [],
   "source": [
    "for index, com_repr_vector in enumerate(test_data.combined_cust_repr_vector.to_list()):\n",
    "    best_matching_index = best_matching_finder(com_repr_vector)\n",
    "    # Assuming df is your DataFrame and 'NLQ' is the column from which you want to retrieve the value\n",
    "    best_cat_desc = df['cmpnt_cat_desc'].iloc[best_matching_index]\n",
    "    best_cmpnt_code = df['cmpnt_code'].iloc[best_matching_index]\n",
    "    best_cmpnt_symp_txt = df['cmpnt_symp_txt'].iloc[best_matching_index]\n",
    "    # Update the 'Matched NLQ' column in test_data at the current index\n",
    "    test_data.at[index, 'Matched cmpnt_cat_desc'] = best_cat_desc\n",
    "    test_data.at[index, 'Matched cmpnt_symp_txt'] = best_cmpnt_symp_txt\n",
    "    test_data.at[index, 'Matched cmpnt_code'] = best_cmpnt_code "
   ]
  },
  {
   "cell_type": "code",
   "execution_count": null,
   "id": "e3600ca2",
   "metadata": {},
   "outputs": [],
   "source": []
  },
  {
   "cell_type": "code",
   "execution_count": 11,
   "id": "d83d0811",
   "metadata": {},
   "outputs": [],
   "source": [
    "# test_data.drop('combined_cust_repr_vector', axis=1,inplace=True)\n",
    "test_data['similarity'] = [x*100 for x in best_cos_score]\n",
    "test_data.to_excel('Bert Global pretrained output direct compalint and repr matching.xlsx',index=False)"
   ]
  },
  {
   "cell_type": "code",
   "execution_count": null,
   "id": "8b554db3",
   "metadata": {},
   "outputs": [],
   "source": []
  },
  {
   "cell_type": "code",
   "execution_count": null,
   "id": "d7243be8",
   "metadata": {},
   "outputs": [],
   "source": []
  }
 ],
 "metadata": {
  "kernelspec": {
   "display_name": "venvTorch",
   "language": "python",
   "name": "venvtorch"
  },
  "language_info": {
   "codemirror_mode": {
    "name": "ipython",
    "version": 3
   },
   "file_extension": ".py",
   "mimetype": "text/x-python",
   "name": "python",
   "nbconvert_exporter": "python",
   "pygments_lexer": "ipython3",
   "version": "3.8.10"
  }
 },
 "nbformat": 4,
 "nbformat_minor": 5
}
