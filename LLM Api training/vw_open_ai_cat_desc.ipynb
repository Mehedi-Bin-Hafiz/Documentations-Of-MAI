{
 "cells": [
  {
   "cell_type": "code",
   "execution_count": 2,
   "id": "5e8eab84",
   "metadata": {},
   "outputs": [],
   "source": []
  },
  {
   "cell_type": "code",
   "execution_count": 3,
   "id": "ffe01d44",
   "metadata": {},
   "outputs": [],
   "source": [
    "import openai"
   ]
  },
  {
   "cell_type": "code",
   "execution_count": 5,
   "id": "6adef58f",
   "metadata": {},
   "outputs": [
    {
     "data": {
      "text/plain": [
       "Index(['veh_model', 'veh year', 'veh_loc', 'veh_mile', 'cust_complaint',\n",
       "       'repr_comments', 'cmpnt_cat_desc', 'cmpnt_code', 'cmpnt_symp_txt',\n",
       "       'TREAD_cat'],\n",
       "      dtype='object')"
      ]
     },
     "execution_count": 5,
     "metadata": {},
     "output_type": "execute_result"
    }
   ],
   "source": [
    "import pandas as pd\n",
    "data = pd.read_excel(\"../dataset/preprocessed_updated_20_search_and_cf_data-2.xlsx\")\n",
    "data.columns"
   ]
  },
  {
   "cell_type": "code",
   "execution_count": 7,
   "id": "79e45784",
   "metadata": {},
   "outputs": [],
   "source": [
    "data[\"combine_cust_rep\"] = data['cust_complaint'] + \" \" + data[\"repr_comments\"]\n",
    "# data[\"combine_cust_rep\"] = data.drop(['Damage Category Description'],1) # we  removed damage category. to prevent system will properly categories"
   ]
  },
  {
   "cell_type": "code",
   "execution_count": 8,
   "id": "99014e15",
   "metadata": {},
   "outputs": [
    {
     "data": {
      "text/plain": [
       "0     the airbag warning light in my audi wont turn ...\n",
       "1     the airbag is making a buzzing noise very anno...\n",
       "2     my audis fuel gauge is stuck showing full even...\n",
       "3     the airbag warning light in my audi wont turn ...\n",
       "4     the air suspension system of my audi seems to ...\n",
       "5     the air suspension system of my audi seems to ...\n",
       "6     the airbag warning light in my audi wont turn ...\n",
       "7     my audis fuel gauge is stuck showing full even...\n",
       "8     the air suspension system of my audi seems to ...\n",
       "9     my audis fuel gauge is stuck showing full even...\n",
       "10    my audis fuel gauge is stuck showing full even...\n",
       "11    the air suspension system of my audi seems to ...\n",
       "12    the air suspension system of my audi seems to ...\n",
       "13    my audis fuel gauge is stuck showing full even...\n",
       "14    the air suspension system of my audi seems to ...\n",
       "15    my audis fuel gauge is stuck showing full even...\n",
       "16    having blinking problem with cabin light at in...\n",
       "17    light of interior cabin does not turn on repla...\n",
       "Name: combine_cust_rep, dtype: object"
      ]
     },
     "execution_count": 8,
     "metadata": {},
     "output_type": "execute_result"
    }
   ],
   "source": [
    "data[\"combine_cust_rep\"]"
   ]
  },
  {
   "cell_type": "code",
   "execution_count": 9,
   "id": "5f0e2d28",
   "metadata": {},
   "outputs": [],
   "source": [
    "formatted_examples = []\n",
    "for _, row in data.iterrows():\n",
    "    json_response = row[\"combine_cust_rep\"]\n",
    "    formatted_example = {\"prompt\": json_response, \"completion\": str(row[\"cmpnt_cat_desc\"])}\n",
    "    formatted_examples.append(formatted_example) "
   ]
  },
  {
   "cell_type": "code",
   "execution_count": 10,
   "id": "76f3f7e0",
   "metadata": {},
   "outputs": [
    {
     "data": {
      "text/plain": [
       "[{'prompt': 'the airbag warning light in my audi wont turn off identified as a switch problem the issue has been resolved and the light should now turn off as expected',\n",
       "  'completion': 'Airbag'},\n",
       " {'prompt': 'the airbag is making a buzzing noise very annoying fixed a loose wiring of the airbag assembly ',\n",
       "  'completion': 'Airbag'},\n",
       " {'prompt': 'my audis fuel gauge is stuck showing full even when its not the fuel gauge sticking issue was due to a faulty sender unit which has now been replaced gauge readings should now be accurate',\n",
       "  'completion': 'Fuel Gauge'},\n",
       " {'prompt': 'the airbag warning light in my audi wont turn off identified as a switch problem the issue has been resolved and the light should now turn off as expected',\n",
       "  'completion': 'Airbag'},\n",
       " {'prompt': 'the air suspension system of my audi seems to be malfunctioning air suspension fault traced to a leaky air strut the strut has been replaced resolving the sagging and rough ride issues',\n",
       "  'completion': 'Air Suspension'},\n",
       " {'prompt': 'the air suspension system of my audi seems to be malfunctioning air suspension fault traced to a leaky air strut the strut has been replaced resolving the sagging and rough ride issues',\n",
       "  'completion': 'Air Suspension'},\n",
       " {'prompt': 'the airbag warning light in my audi wont turn off identified as a switch problem the issue has been resolved and the light should now turn off as expected',\n",
       "  'completion': 'Airbag'},\n",
       " {'prompt': 'my audis fuel gauge is stuck showing full even when its not the fuel gauge sticking issue was due to a faulty sender unit which has now been replaced gauge readings should now be accurate',\n",
       "  'completion': 'Fuel Gauge'},\n",
       " {'prompt': 'the air suspension system of my audi seems to be malfunctioning air suspension fault traced to a leaky air strut the strut has been replaced resolving the sagging and rough ride issues',\n",
       "  'completion': 'Air Suspension'},\n",
       " {'prompt': 'my audis fuel gauge is stuck showing full even when its not the fuel gauge sticking issue was due to a faulty sender unit which has now been replaced gauge readings should now be accurate',\n",
       "  'completion': 'Fuel Gauge'},\n",
       " {'prompt': 'my audis fuel gauge is stuck showing full even when its not the fuel gauge sticking issue was due to a faulty sender unit which has now been replaced gauge readings should now be accurate',\n",
       "  'completion': 'Fuel Gauge'},\n",
       " {'prompt': 'the air suspension system of my audi seems to be malfunctioning air suspension fault traced to a leaky air strut the strut has been replaced resolving the sagging and rough ride issues',\n",
       "  'completion': 'Air Suspension'},\n",
       " {'prompt': 'the air suspension system of my audi seems to be malfunctioning air suspension fault traced to a leaky air strut the strut has been replaced resolving the sagging and rough ride issues',\n",
       "  'completion': 'Air Suspension'},\n",
       " {'prompt': 'my audis fuel gauge is stuck showing full even when its not the fuel gauge sticking issue was due to a faulty sender unit which has now been replaced gauge readings should now be accurate',\n",
       "  'completion': 'Fuel Gauge'},\n",
       " {'prompt': 'the air suspension system of my audi seems to be malfunctioning air suspension fault traced to a leaky air strut the strut has been replaced resolving the sagging and rough ride issues',\n",
       "  'completion': 'Air Suspension'},\n",
       " {'prompt': 'my audis fuel gauge is stuck showing full even when its not the fuel gauge sticking issue was due to a faulty sender unit which has now been replaced gauge readings should now be accurate',\n",
       "  'completion': 'Fuel Gauge'},\n",
       " {'prompt': 'having blinking problem with cabin light at interior of the vehicle fixed electrical wiring and fuse bliking problem of the interior cabin lights was solved',\n",
       "  'completion': 'Interior Cabin Light'},\n",
       " {'prompt': 'light of interior cabin does not turn on replaced light bulb of the interior cabin that solved the problem',\n",
       "  'completion': 'Interior Cabin Light'}]"
      ]
     },
     "execution_count": 10,
     "metadata": {},
     "output_type": "execute_result"
    }
   ],
   "source": [
    "formatted_examples"
   ]
  },
  {
   "cell_type": "code",
   "execution_count": null,
   "id": "3566d5b5",
   "metadata": {},
   "outputs": [],
   "source": [
    "## dataset sampling "
   ]
  },
  {
   "cell_type": "code",
   "execution_count": 11,
   "id": "eaedc799",
   "metadata": {},
   "outputs": [],
   "source": [
    "from sklearn.model_selection import train_test_split\n",
    "\n",
    "# Stratified splitting. Assuming 'Top Category' can be used for stratification\n",
    "train_data, val_data = train_test_split(\n",
    "    formatted_examples,\n",
    "    test_size=0.30,\n",
    "    random_state=42  # for reproducibility\n",
    ")\n"
   ]
  },
  {
   "cell_type": "code",
   "execution_count": 12,
   "id": "75d8f79a",
   "metadata": {},
   "outputs": [],
   "source": []
  },
  {
   "cell_type": "code",
   "execution_count": 13,
   "id": "a1317ef2",
   "metadata": {},
   "outputs": [],
   "source": [
    "import json\n",
    "def write_to_jsonl(data, file_path):\n",
    "    with open(file_path, 'w') as file:\n",
    "        for entry in data:\n",
    "            json.dump(entry, file)\n",
    "            file.write('\\n')\n",
    "            \n",
    "training_file_name = \"train.jsonl\"\n",
    "validation_file_name = \"val.jsonl\"\n",
    "write_to_jsonl(train_data, training_file_name)\n",
    "write_to_jsonl(val_data, validation_file_name)"
   ]
  },
  {
   "cell_type": "code",
   "execution_count": 14,
   "id": "a3435963",
   "metadata": {},
   "outputs": [
    {
     "data": {
      "text/plain": [
       "(12, 4, 2)"
      ]
     },
     "execution_count": 14,
     "metadata": {},
     "output_type": "execute_result"
    }
   ],
   "source": [
    "len(train_data), len(val_data), len(test_data)"
   ]
  },
  {
   "cell_type": "code",
   "execution_count": 15,
   "id": "bdfe68c7",
   "metadata": {},
   "outputs": [],
   "source": [
    "from openai import OpenAI\n",
    "client = OpenAI(api_key=\"\")\n",
    "\n",
    "# Upload Training and Validation Files\n",
    "training_file = client.files.create(\n",
    "    file=open(training_file_name, \"rb\"), purpose=\"fine-tune\"\n",
    ")\n",
    "validation_file = client.files.create(\n",
    "    file=open(validation_file_name, \"rb\"), purpose=\"fine-tune\"\n",
    ")\n",
    "\n",
    "# Create Fine-Tuning Job\n",
    "suffix_name = \"VWCFCAT\"\n",
    "response = client.fine_tuning.jobs.create(\n",
    "    training_file=training_file.id,\n",
    "    validation_file=validation_file.id,\n",
    "    model=\"babbage-002\",\n",
    "    suffix=suffix_name,\n",
    "    hyperparameters={\n",
    "    \"n_epochs\":20\n",
    "  }\n",
    ")\n"
   ]
  },
  {
   "cell_type": "code",
   "execution_count": null,
   "id": "cd68b0dd",
   "metadata": {},
   "outputs": [],
   "source": [
    "## calculating test accuracy accuracy"
   ]
  },
  {
   "cell_type": "code",
   "execution_count": null,
   "id": "dd7527c1",
   "metadata": {},
   "outputs": [],
   "source": [
    "## test data preparation"
   ]
  },
  {
   "cell_type": "code",
   "execution_count": 1,
   "id": "61fcd4ce",
   "metadata": {},
   "outputs": [
    {
     "data": {
      "text/plain": [
       "Index(['veh_model', 'veh year', 'veh_loc', 'veh_mile', 'cust_complaint',\n",
       "       'repr_comments', 'combined_cust_repr', 'Matched cmpnt_cat_desc',\n",
       "       'Matched cmpnt_symp_txt', 'Matched cmpnt_code'],\n",
       "      dtype='object')"
      ]
     },
     "execution_count": 1,
     "metadata": {},
     "output_type": "execute_result"
    }
   ],
   "source": [
    "import pandas as pd\n",
    "test_data = pd.read_excel(\"../dataset/output direct compalint and repr matching.xlsx\")\n",
    "test_data.columns"
   ]
  },
  {
   "cell_type": "code",
   "execution_count": 2,
   "id": "bedae2d7",
   "metadata": {},
   "outputs": [],
   "source": [
    "test_data[\"combine_cust_rep\"] = test_data['cust_complaint'] + \" \" + test_data[\"repr_comments\"]"
   ]
  },
  {
   "cell_type": "code",
   "execution_count": 3,
   "id": "80d087c3",
   "metadata": {},
   "outputs": [],
   "source": [
    "test_formatted_examples = []\n",
    "for _, row in test_data.iterrows():\n",
    "    json_response = row[\"combine_cust_rep\"]\n",
    "    formatted_example = {\"prompt\": json_response, \"completion\": str(row[\"Matched cmpnt_cat_desc\"])}\n",
    "    test_formatted_examples.append(formatted_example) "
   ]
  },
  {
   "cell_type": "code",
   "execution_count": 4,
   "id": "a14ef0cc",
   "metadata": {},
   "outputs": [],
   "source": [
    "test_prompts = list()\n",
    "real_completion = list()\n",
    "for jdata in test_formatted_examples:\n",
    "    test_prompts.append(jdata['prompt'])\n",
    "    real_completion.append(jdata['completion'])"
   ]
  },
  {
   "cell_type": "code",
   "execution_count": 5,
   "id": "0857f5fc",
   "metadata": {},
   "outputs": [
    {
     "data": {
      "text/plain": [
       "['the airbag light is blinking intermittently fixed a loose connection in the airbag circuit',\n",
       " 'the fuel level indicator gets stuck after refueling adjusted the fuel sensor for accurate readings',\n",
       " 'bad noise coming out of the airbag repaired electrical problem',\n",
       " 'theres a noticeable delay in air suspension adjustment when changing driving modes replaced the air suspensions compressor for optimal performance',\n",
       " 'the fuel level indicator gets stuck after refueling adjusted the fuel sensor for accurate readings',\n",
       " 'theres a noticeable delay in air suspension adjustment when changing driving modes replaced the air suspensions compressor for optimal performance',\n",
       " 'im experiencing a flickering issue with interior cabin light checked fuse and wiring replaced faulty cabin light switch flickering issue resolved',\n",
       " 'light of interior cabin does not turn on replaced light bulb of the interior cabin that solved the problem']"
      ]
     },
     "execution_count": 5,
     "metadata": {},
     "output_type": "execute_result"
    }
   ],
   "source": [
    "test_prompts"
   ]
  },
  {
   "cell_type": "code",
   "execution_count": 6,
   "id": "782d9f58",
   "metadata": {},
   "outputs": [],
   "source": [
    "from openai import OpenAI\n",
    "\n",
    "# Initialize the OpenAI client\n",
    "client = OpenAI(api_key=\"\")\n",
    "\n",
    "# Load the fine-tuned model\n",
    "model_id = \"\"  # Adjust the suffix_name if necessary\n",
    "model = client.models.retrieve(model_id)"
   ]
  },
  {
   "cell_type": "code",
   "execution_count": 11,
   "id": "4ca2b46f",
   "metadata": {},
   "outputs": [],
   "source": [
    "# Empty list to store predictions\n",
    "pred_completion = []\n",
    "\n",
    "# Loop through each prompt in the list\n",
    "for prompt_to_pred in test_prompts:\n",
    "    # Generate predictions for each prompt\n",
    "    response = client.completions.create(\n",
    "        model=model_id,\n",
    "        prompt=prompt_to_pred,\n",
    "        max_tokens=3,  # Adjust as needed\n",
    "    )\n",
    "\n",
    "    # Assuming the response is successful and contains at least one choice,\n",
    "    # extract the predicted text and add it to the predictions list\n",
    "    if response.choices:\n",
    "        predicted_text = response.choices[0].text.strip()\n",
    "        pred_completion.append(predicted_text)"
   ]
  },
  {
   "cell_type": "code",
   "execution_count": 12,
   "id": "66b54354",
   "metadata": {},
   "outputs": [
    {
     "data": {
      "text/plain": [
       "(8, 8)"
      ]
     },
     "execution_count": 12,
     "metadata": {},
     "output_type": "execute_result"
    }
   ],
   "source": [
    "len(pred_completion), len(real_completion)"
   ]
  },
  {
   "cell_type": "code",
   "execution_count": 13,
   "id": "a864bc37",
   "metadata": {},
   "outputs": [
    {
     "name": "stdout",
     "output_type": "stream",
     "text": [
      "Classification Report:\n",
      "                           precision    recall  f1-score   support\n",
      "\n",
      "           Air Suspension       0.00      0.00      0.00         2\n",
      "Air Suspension Suspension       0.00      0.00      0.00         0\n",
      "                   Airbag       0.00      0.00      0.00         2\n",
      "             Airbag Light       0.00      0.00      0.00         0\n",
      "                 Airbag T       0.00      0.00      0.00         0\n",
      "               Fuel Gauge       0.00      0.00      0.00         2\n",
      "     Interior Cabin Light       0.50      1.00      0.67         2\n",
      "\n",
      "                 accuracy                           0.25         8\n",
      "                macro avg       0.07      0.14      0.10         8\n",
      "             weighted avg       0.12      0.25      0.17         8\n",
      "\n",
      "Overall Accuracy: 0.2500\n",
      "Precision: 0.1250\n",
      "Recall: 0.2500\n",
      "F1-Score: 0.1667\n",
      "Accuracy: 0.2500\n",
      "\n",
      "\n"
     ]
    },
    {
     "name": "stderr",
     "output_type": "stream",
     "text": [
      "C:\\Users\\Mehedi\\PycharmProjects\\TorchEnvironment\\venvTorch\\lib\\site-packages\\sklearn\\metrics\\_classification.py:1344: UndefinedMetricWarning: Precision and F-score are ill-defined and being set to 0.0 in labels with no predicted samples. Use `zero_division` parameter to control this behavior.\n",
      "  _warn_prf(average, modifier, msg_start, len(result))\n",
      "C:\\Users\\Mehedi\\PycharmProjects\\TorchEnvironment\\venvTorch\\lib\\site-packages\\sklearn\\metrics\\_classification.py:1344: UndefinedMetricWarning: Recall and F-score are ill-defined and being set to 0.0 in labels with no true samples. Use `zero_division` parameter to control this behavior.\n",
      "  _warn_prf(average, modifier, msg_start, len(result))\n",
      "C:\\Users\\Mehedi\\PycharmProjects\\TorchEnvironment\\venvTorch\\lib\\site-packages\\sklearn\\metrics\\_classification.py:1344: UndefinedMetricWarning: Precision and F-score are ill-defined and being set to 0.0 in labels with no predicted samples. Use `zero_division` parameter to control this behavior.\n",
      "  _warn_prf(average, modifier, msg_start, len(result))\n",
      "C:\\Users\\Mehedi\\PycharmProjects\\TorchEnvironment\\venvTorch\\lib\\site-packages\\sklearn\\metrics\\_classification.py:1344: UndefinedMetricWarning: Recall and F-score are ill-defined and being set to 0.0 in labels with no true samples. Use `zero_division` parameter to control this behavior.\n",
      "  _warn_prf(average, modifier, msg_start, len(result))\n",
      "C:\\Users\\Mehedi\\PycharmProjects\\TorchEnvironment\\venvTorch\\lib\\site-packages\\sklearn\\metrics\\_classification.py:1344: UndefinedMetricWarning: Precision and F-score are ill-defined and being set to 0.0 in labels with no predicted samples. Use `zero_division` parameter to control this behavior.\n",
      "  _warn_prf(average, modifier, msg_start, len(result))\n",
      "C:\\Users\\Mehedi\\PycharmProjects\\TorchEnvironment\\venvTorch\\lib\\site-packages\\sklearn\\metrics\\_classification.py:1344: UndefinedMetricWarning: Recall and F-score are ill-defined and being set to 0.0 in labels with no true samples. Use `zero_division` parameter to control this behavior.\n",
      "  _warn_prf(average, modifier, msg_start, len(result))\n",
      "C:\\Users\\Mehedi\\PycharmProjects\\TorchEnvironment\\venvTorch\\lib\\site-packages\\sklearn\\metrics\\_classification.py:1344: UndefinedMetricWarning: Precision is ill-defined and being set to 0.0 in labels with no predicted samples. Use `zero_division` parameter to control this behavior.\n",
      "  _warn_prf(average, modifier, msg_start, len(result))\n",
      "C:\\Users\\Mehedi\\PycharmProjects\\TorchEnvironment\\venvTorch\\lib\\site-packages\\sklearn\\metrics\\_classification.py:1344: UndefinedMetricWarning: Recall is ill-defined and being set to 0.0 in labels with no true samples. Use `zero_division` parameter to control this behavior.\n",
      "  _warn_prf(average, modifier, msg_start, len(result))\n"
     ]
    }
   ],
   "source": [
    "from sklearn.metrics import classification_report, confusion_matrix, accuracy_score\n",
    "import numpy as np\n",
    "from sklearn import metrics\n",
    "\n",
    "# Generate classification report\n",
    "print(\"Classification Report:\")\n",
    "print(classification_report(real_completion, pred_completion))\n",
    "\n",
    "# Calculate overall accuracy using accuracy_score\n",
    "accuracy = accuracy_score(real_completion, pred_completion)\n",
    "# Precision\n",
    "precision = metrics.precision_score(real_completion, pred_completion, average = 'weighted' )  # Use 'binary' for binary classification\n",
    "# Recall\n",
    "recall = metrics.recall_score(real_completion, pred_completion , average = 'weighted' )  # Use 'binary' for binary classification\n",
    "# F1-Score\n",
    "f1_score = metrics.f1_score(real_completion, pred_completion , average = 'weighted' )  # Use 'binary' for binary classification\n",
    "print(f\"Overall Accuracy: {accuracy:.4f}\")\n",
    "print(f'Precision: {precision:.4f}')\n",
    "print(f'Recall: {recall:.4f}')\n",
    "print(f'F1-Score: {f1_score:.4f}')\n",
    "print(f'Accuracy: {accuracy:.4f}\\n\\n')\n"
   ]
  },
  {
   "cell_type": "code",
   "execution_count": 14,
   "id": "d4f06dfa",
   "metadata": {},
   "outputs": [
    {
     "data": {
      "text/plain": [
       "['Airbag Light',\n",
       " 'Interior Cabin Light',\n",
       " 'Airbag T',\n",
       " 'Air Suspension Suspension',\n",
       " 'Interior Cabin Light',\n",
       " 'Air Suspension Suspension',\n",
       " 'Interior Cabin Light',\n",
       " 'Interior Cabin Light']"
      ]
     },
     "execution_count": 14,
     "metadata": {},
     "output_type": "execute_result"
    }
   ],
   "source": [
    "pred_completion"
   ]
  },
  {
   "cell_type": "code",
   "execution_count": 15,
   "id": "4b73dc20",
   "metadata": {},
   "outputs": [
    {
     "data": {
      "text/plain": [
       "['Airbag',\n",
       " 'Fuel Gauge',\n",
       " 'Airbag',\n",
       " 'Air Suspension',\n",
       " 'Fuel Gauge',\n",
       " 'Air Suspension',\n",
       " 'Interior Cabin Light',\n",
       " 'Interior Cabin Light']"
      ]
     },
     "execution_count": 15,
     "metadata": {},
     "output_type": "execute_result"
    }
   ],
   "source": [
    "real_completion"
   ]
  }
 ],
 "metadata": {
  "kernelspec": {
   "display_name": "venvTorch",
   "language": "python",
   "name": "venvtorch"
  },
  "language_info": {
   "codemirror_mode": {
    "name": "ipython",
    "version": 3
   },
   "file_extension": ".py",
   "mimetype": "text/x-python",
   "name": "python",
   "nbconvert_exporter": "python",
   "pygments_lexer": "ipython3",
   "version": "3.8.10"
  }
 },
 "nbformat": 4,
 "nbformat_minor": 5
}
